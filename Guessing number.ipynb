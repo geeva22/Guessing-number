{
 "cells": [
  {
   "cell_type": "code",
   "execution_count": null,
   "metadata": {},
   "outputs": [],
   "source": [
    "import random\n",
    "import pygame\n",
    "\n",
    "\n",
    "numberofGuesses = 0\n",
    "number = random.randint(1,50)\n",
    "\n",
    "name = input(\"Hello! What is your name? \")\n",
    "\n",
    "print(name + \", I am thinking of a whole number between 1 and 50. Can you guess what it is?\")\n",
    "\n",
    "while numberofGuesses < 8:\n",
    "  guess = input(\"Take a guess \")\n",
    "  guess = int(guess)\n",
    "\n",
    "  numberofGuesses = numberofGuesses + 1;\n",
    "  guessesLeft = 8 - numberofGuesses;\n",
    "\n",
    "  if guess < number:\n",
    "    guessesLeft=str(guessesLeft)\n",
    "    print(\"Your guess is too low! You have \" + guessesLeft + \" guesses left\")\n",
    "\n",
    "  if guess > number:\n",
    "    guessesLeft=str(guessesLeft)\n",
    "    print(\"Your guess is too high! You have \" + guessesLeft + \" guesses left\")\n",
    "\n",
    "  if guess==number:\n",
    "    break\n",
    "\n",
    "if guess==number:\n",
    "  numberofGuesses=str(numberofGuesses)\n",
    "  print(\"Good job! You guessed the number in \" + numberofGuesses + \" tries :)\")\n",
    "  pygame.mixer.init()\n",
    "  pygame.mixer.music.load(\"clap.wav\")\n",
    "  pygame.mixer.music.play()\n",
    " \n",
    "\n",
    "#import webbrowser\n",
    " \n",
    "#a_website = \"https://www.youtube.com/watch?v=XWcumYZE22U\"\n",
    " \n",
    "#webbrowser.open_new(a_website)\n",
    "#webbrowser.open_new_tab(a_website)\n",
    "#webbrowser.open(a_website, 1)\n",
    "#webbrowser.open(a_website, 2)\n",
    "\n",
    "else:\n",
    "  number=str(number)\n",
    "  print(\"Sorry. The number I was thinking of was \" + number + \" :)\")\n",
    "  pygame.mixer.init()\n",
    "  pygame.mixer.music.load(\"blnt.wav\")\n",
    "  pygame.mixer.music.play()\n"
   ]
  }
 ],
 "metadata": {
  "kernelspec": {
   "display_name": "Python 3",
   "language": "python",
   "name": "python3"
  },
  "language_info": {
   "codemirror_mode": {
    "name": "ipython",
    "version": 3
   },
   "file_extension": ".py",
   "mimetype": "text/x-python",
   "name": "python",
   "nbconvert_exporter": "python",
   "pygments_lexer": "ipython3",
   "version": "3.7.4"
  }
 },
 "nbformat": 4,
 "nbformat_minor": 2
}
